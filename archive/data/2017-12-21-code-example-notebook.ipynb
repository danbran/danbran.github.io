{
 "cells": [
  {
   "cell_type": "raw",
   "metadata": {
    "raw_mimetype": "text/markdown"
   },
   "source": [
    "---\n",
    "layout: post\n",
    "title: code example\n",
    "---"
   ]
  },
  {
   "cell_type": "markdown",
   "metadata": {},
   "source": [
    "\n",
    "# code example"
   ]
  },
  {
   "cell_type": "code",
   "execution_count": null,
   "metadata": {
    "collapsed": true
   },
   "outputs": [],
   "source": [
    "import math"
   ]
  },
  {
   "cell_type": "markdown",
   "metadata": {},
   "source": [
    "a textbox to explain the code"
   ]
  },
  {
   "cell_type": "code",
   "execution_count": null,
   "metadata": {
    "collapsed": true
   },
   "outputs": [],
   "source": [
    "def a_function(a,b):\n",
    "    return math.sqrt(a) + b**2"
   ]
  },
  {
   "cell_type": "markdown",
   "metadata": {},
   "source": [
    "show function output"
   ]
  },
  {
   "cell_type": "code",
   "execution_count": null,
   "metadata": {},
   "outputs": [],
   "source": [
    "a_function(10,20)"
   ]
  },
  {
   "cell_type": "markdown",
   "metadata": {},
   "source": [
    "# pandas example"
   ]
  },
  {
   "cell_type": "code",
   "execution_count": null,
   "metadata": {
    "collapsed": true
   },
   "outputs": [],
   "source": [
    "import pandas as pd"
   ]
  },
  {
   "cell_type": "code",
   "execution_count": null,
   "metadata": {},
   "outputs": [],
   "source": [
    "df = pd.DataFrame({'a':[35,63,21,58,84]})\n",
    "df['b'] = df.a.cumsum()\n",
    "df['b^2'] = df['b']**2\n",
    "df['c'] = df['b^2'].map(lambda x: a_function(x,0))\n",
    "df"
   ]
  },
  {
   "cell_type": "markdown",
   "metadata": {
    "collapsed": true
   },
   "source": [
    "## example: calculate the friction coefficient of a duct using pandas"
   ]
  },
  {
   "cell_type": "code",
   "execution_count": null,
   "metadata": {
    "collapsed": true
   },
   "outputs": [],
   "source": [
    "%matplotlib inline\n",
    "import pandas as pd\n",
    "import numpy as np"
   ]
  },
  {
   "cell_type": "markdown",
   "metadata": {},
   "source": [
    "create a function that defines the friction coefficient for given Reynolds numbers for laminar flow and turbulent flow in a duct using common equations. The function is also supposed to consider the limits of each equation and return no results for the transitional state."
   ]
  },
  {
   "cell_type": "code",
   "execution_count": null,
   "metadata": {
    "collapsed": true
   },
   "outputs": [],
   "source": [
    "def friction(Re):\n",
    "    # laminar: Hagen-Poiseuille equation\n",
    "    if Re < 2300:\n",
    "        return 64/Re\n",
    "    # turbulent: Blasius equation\n",
    "    elif Re > 4000 and Re <= 40000:\n",
    "        return 0.3164*Re**(-0.25)\n",
    "    else:\n",
    "        return np.nan"
   ]
  },
  {
   "cell_type": "markdown",
   "metadata": {},
   "source": [
    "create an array with Reynolds numbers e.g. using `linspace`-function provided by the `numpy`-package"
   ]
  },
  {
   "cell_type": "code",
   "execution_count": null,
   "metadata": {},
   "outputs": [],
   "source": [
    "Re = np.linspace(1e03,1e04,21)\n",
    "Re"
   ]
  },
  {
   "cell_type": "markdown",
   "metadata": {},
   "source": [
    "save this array into a new `DataFrame`. Then apply the `friction`-function on each row of the Dataframe and calculate the friction coefficient. The results are stored into a new column named `$\\lambda$`."
   ]
  },
  {
   "cell_type": "code",
   "execution_count": null,
   "metadata": {},
   "outputs": [],
   "source": [
    "df = pd.DataFrame(Re, columns=['Re'])\n",
    "df['$\\lambda$'] = df.Re.map(lambda x: friction(x))\n",
    "df.head()"
   ]
  },
  {
   "cell_type": "markdown",
   "metadata": {},
   "source": [
    "To plot the calculated data easily set the Reynolds number column as index. The `plot`-function of Pandas will recognize the index as x-axis and the remaining friction column as y-axis automatically. Before plotting just exclude invalid data with the `dropna` function."
   ]
  },
  {
   "cell_type": "code",
   "execution_count": null,
   "metadata": {},
   "outputs": [],
   "source": [
    "df.set_index('Re').dropna().plot(marker='o',loglog=True,linestyle='')"
   ]
  },
  {
   "cell_type": "markdown",
   "metadata": {},
   "source": [
    "# operate element-wise in pandas"
   ]
  },
  {
   "cell_type": "markdown",
   "metadata": {},
   "source": [
    "The `map`-operation is not easily to understand for a moment. But there are lots of other possibilities to operate element-wise in pandas and python. Here are some examples:\n",
    "- common for-loop\n",
    "- list comprehension\n",
    "- `pandas.Series.map`\n",
    "- `pandas.DataFrame.apply`\n",
    "- `pandas.DataFrame.applymap`"
   ]
  },
  {
   "cell_type": "code",
   "execution_count": null,
   "metadata": {},
   "outputs": [],
   "source": [
    "df_test = df.copy()\n",
    "# common python for-loop\n",
    "result = []\n",
    "for i in df_test['Re']:\n",
    "    result.append(friction(i))\n",
    "df_test['loop'] = result\n",
    "# very straightforward and fast: pythons list comprehension\n",
    "df_test['lc'] = [friction(i) for i in df_test['Re']]\n",
    "# kind of a special case. It operates over each value of a pandas Series: map\n",
    "df_test['map'] = df_test.Re.map(lambda x: friction(x))\n",
    "# a flexibel operation that can be used on any DataFrame axis: apply\n",
    "df_test['apply'] = df_test.loc[:]['Re'].apply(friction)\n",
    "# unconvenient in this case but sometimes useful. It applies the function to each value in the DataFrame: applymap\n",
    "df_test['applymap'] = df_test.applymap(lambda x: friction(x)).iloc[:,0]\n",
    "df_test.head()"
   ]
  },
  {
   "cell_type": "code",
   "execution_count": null,
   "metadata": {
    "collapsed": true
   },
   "outputs": [],
   "source": []
  }
 ],
 "metadata": {
  "kernelspec": {
   "display_name": "Python 3",
   "language": "python",
   "name": "python3"
  },
  "language_info": {
   "codemirror_mode": {
    "name": "ipython",
    "version": 3
   },
   "file_extension": ".py",
   "mimetype": "text/x-python",
   "name": "python",
   "nbconvert_exporter": "python",
   "pygments_lexer": "ipython3",
   "version": "3.6.3"
  }
 },
 "nbformat": 4,
 "nbformat_minor": 2
}
